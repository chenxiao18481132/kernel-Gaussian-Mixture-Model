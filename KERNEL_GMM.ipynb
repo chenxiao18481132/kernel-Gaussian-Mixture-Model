{
  "nbformat": 4,
  "nbformat_minor": 0,
  "metadata": {
    "colab": {
      "name": "KERNEL GMM.ipynb",
      "provenance": []
    },
    "kernelspec": {
      "name": "python3",
      "display_name": "Python 3"
    },
    "accelerator": "GPU"
  },
  "cells": [
    {
      "cell_type": "code",
      "metadata": {
        "id": "5mxMRd4l_4sR"
      },
      "source": [
        "import cupy as cp\n",
        "import numpy as np\n",
        "from sklearn.datasets import make_moons \n",
        "from sklearn.preprocessing import OneHotEncoder\n",
        "import math\n",
        "import numpy as np\n",
        "import matplotlib.pyplot as plt\n",
        "\n",
        "from sklearn.decomposition import PCA, KernelPCA\n",
        "from sklearn.datasets import make_circles,make_moons\n",
        "\n",
        "from scipy.sparse.linalg import eigsh"
      ],
      "execution_count": 10,
      "outputs": []
    },
    {
      "cell_type": "markdown",
      "metadata": {
        "id": "M4epEleIAsUK"
      },
      "source": [
        "synthetic data"
      ]
    },
    {
      "cell_type": "code",
      "metadata": {
        "id": "so01iY0RArO-"
      },
      "source": [
        "X_train, y = make_circles(n_samples=1000,factor=.3, noise=.05)"
      ],
      "execution_count": 2,
      "outputs": []
    },
    {
      "cell_type": "code",
      "metadata": {
        "id": "Ku7vPc0yApiG"
      },
      "source": [
        "#X_train, y = make_moons(n_samples=400, noise=.05, random_state=0)"
      ],
      "execution_count": null,
      "outputs": []
    },
    {
      "cell_type": "code",
      "metadata": {
        "id": "hj5O2FnTBAYf"
      },
      "source": [
        ""
      ],
      "execution_count": null,
      "outputs": []
    },
    {
      "cell_type": "code",
      "metadata": {
        "id": "Z1hDtBoLziPW"
      },
      "source": [
        "gamma=10#parameter for rbf kernel\n",
        "degree=2# parameter of polynomial kernel\n",
        "def KK(kernel_,X):\n",
        "  #kernel function\n",
        "        if kernel_==\"poly\":\n",
        "           return cp.power(cp.matmul(X,X.T)+1,degree)\n",
        "        if kernel_== \"rbf\" :\n",
        "           aa=cp.diag(cp.matmul(X,X.T)).reshape(1,-1)+ cp.diag(cp.matmul(X,X.T)).reshape(-1,1) -2*cp.matmul(X,X.T)\n",
        "           return cp.exp(-gamma*aa)\n",
        "from sklearn.mixture import GaussianMixture as GMM\n",
        "        \n",
        "class GaussianMixture:\n",
        "\n",
        "    def __init__(self, n_components= 2, max_iter: int = 100, epsilon=1e-10,kernel=\"rbf\",d_phi=None,initial=\"random\"):\n",
        "       #initial ： methods of initialization for class label assignment\n",
        "        \n",
        "        self.n_components = n_components\n",
        "\n",
        "        self.a = None\n",
        "\n",
        "        self.w = None\n",
        "\n",
        "        self.K_tilde = None\n",
        "        self.K_tilde_pie = None\n",
        "        self.epsilon=epsilon\n",
        "        self.kernel=kernel\n",
        "        self.d_phi=d_phi\n",
        "        self.max_iter = max_iter\n",
        "        self.initial=initial\n",
        "        self.predict=None\n",
        "         \n",
        "    def fit(self, X_train,pp=None):\n",
        "\n",
        "        # 获取一些必要的数据信息\n",
        "        \n",
        "        n_samples, n_feature = X_train.shape\n",
        "        r=n_samples\n",
        "        #初始化 p\n",
        "        #yy=np.random.uniform(0,1,400).reshape(-1,1)\n",
        "        #io=1-yy\n",
        "        #yy=np.concatenate((yy,io),1)\n",
        "        if self.initial == \"random\":\n",
        "            p=np.random.binomial(1,0.5,n_samples)\n",
        "        if self.initial==\"gmm\":\n",
        "            gmm = GMM(n_components=self.n_components,n_init=1).fit(cp.asnumpy(X_train))\n",
        "            p = gmm.predict(cp.asnumpy(X_train))  \n",
        "        if self.initial==\"feed\":\n",
        "            p=pp\n",
        "        yy = (OneHotEncoder().fit_transform(p.reshape(-1,1)).toarray()+0.0001)/1.0002\n",
        "\n",
        "        P_t= cp.asarray(yy)##n_samples*n_components\n",
        "        K=KK(self.kernel,X_train)#k(xi,xj)\n",
        "\n",
        "        # 初始化一些必要的参数：均值，协方差，权重\n",
        "        for iter in range(self.max_iter):\n",
        "            P_t_old=cp.copy(P_t)\n",
        "            self.a = cp.mean(P_t,0)\n",
        "            w=cp.sqrt(cp.divide(P_t,cp.sum(P_t,0).reshape(1,-1)))#n_samples*n_components\n",
        "    \n",
        "            self.K_tilde=[]#K_tilede[l] centered w_ilwj_lk(xi,xj)\n",
        "            self.K_tilde_pie=[]#K_tilede_pie[l] centered wj_lk(xi,xj)\n",
        "            G=[]#G_l(phi(xi)|theta)\n",
        "     \n",
        " \n",
        "            lamda_l=[]\n",
        "            beta_l=[]\n",
        "            rho=0\n",
        "            for l in range(2):\n",
        "                w_l=w[:,l]#t\n",
        "                K_t_l=(cp.multiply(cp.multiply(w_l.reshape(-1,1),K),w_l.reshape(1,-1)))\n",
        "  \n",
        "                K_t_pie_l=cp.multiply(w_l.reshape(1,-1),K)\n",
        "                W_l=cp.outer(w_l,w_l)#t\n",
        "\n",
        "                W_l_pie=cp.outer(cp.ones_like(w_l),w_l)\n",
        "                self.K_tilde.append(K_t_l-cp.matmul(W_l,K_t_l)-cp.matmul(K_t_l,W_l)+cp.matmul(W_l,cp.matmul(K_t_l,W_l)))\n",
        "                self.K_tilde_pie.append(K_t_pie_l-cp.matmul(W_l_pie,K_t_l)-cp.matmul(K_t_pie_l,W_l)+cp.matmul(W_l_pie,cp.matmul(K_t_l,W_l)))  \n",
        "   \n",
        "                e,v=cp.linalg.eigh(self.K_tilde[l])\n",
        "                lamda_l.append(e[e>1e-5])\n",
        "                beta_l.append(cp.transpose(v[e>1e-5]))\n",
        "                self.d_phi[l]=lamda_l[l].shape[0]\n",
        "                #ll=list(-np.array(range(1,self.d_phi[l]+1)))\n",
        "                #lamda_l.append(e[[ll]])\n",
        "                #beta_l.append(cp.transpose(v[[ll]]))\n",
        "                #print(lamda_l[l])\n",
        "                rho+=(cp.trace(self.K_tilde[l])-cp.sum(lamda_l[l]))*self.a[l]\n",
        "                #print(1)\n",
        "            \n",
        "            rho=rho/cp.matmul((r-cp.array(self.d_phi)),self.a)\n",
        "            #print(rho)\n",
        "            for l in range(2):   \n",
        "                w_l=w[:,l]#t\n",
        "                y_e=(cp.matmul(self.K_tilde_pie[l],beta_l[l]))#d_phi*n_samples\n",
        " \n",
        "                epsl=cp.divide(cp.diag(self.K_tilde[l]),cp.power(w_l,2))-cp.sum(cp.power(y_e,2),1)# 为什么是负的？？？？？\n",
        "                \n",
        "                logpart=-0.5*cp.sum(cp.divide(cp.power(y_e,2),lamda_l[l].reshape(1,-1)),1)-(0.5/rho)*(epsl)\n",
        "                #print(logpart)\n",
        "                logC=0.5*cp.sum(cp.log(lamda_l[l]))+0.5*(r-self.d_phi[l])*cp.log(rho)+math.log(math.pi)*0.5*n_samples\n",
        "                #print(logC)\n",
        "                #C=np.sqrt(cp.prod(lamda_l[l]))*np.power(rho,0.5*(cp.max(self.d_phi)-self.d_phi[l]))#np.power((2*math.pi),0.5*n_samples)*\n",
        "                logG_l=logpart-logC\n",
        "                G.append(logG_l.reshape(-1,1))\n",
        "            G_l=cp.concatenate(G,1)\n",
        "            #print((G_l))\n",
        "            #print(\t'{:.2e}'.format(cp.asnumpy(cp.sum(cp.max(G_l,1))-400*0.5*(n_samples-self.d_phi)*math.log(rho))))\n",
        "            G_l=(cp.exp(((G_l)-cp.max(G_l,1).reshape(-1,1)))+1e-20)\n",
        "            #print(G_l)\n",
        "#print(((G_l)-cp.mean(G_l,1).reshape(-1,1),1))\n",
        "            \n",
        "            P_t=cp.divide(cp.multiply(self.a.reshape(1,-1),G_l),cp.matmul(G_l,self.a).reshape(-1,1))\n",
        "            self.predict=cp.asnumpy(cp.argmax(P_t,1))\n",
        "            print(\"Accuracy\",cluster_acc(self.predict,y))\n",
        "            print(\"p_t-p_(t+1)\",cp.sum(cp.power(cp.subtract(P_t,P_t_old),2)))\n",
        "            if cp.sum(cp.power(cp.subtract(P_t,P_t_old),2))<self.epsilon:\n",
        "                break\n",
        "#print(cp.argmax(P_t,1)-cp.asarray(y))\n",
        "           \n",
        "            \n",
        "     "
      ],
      "execution_count": 30,
      "outputs": []
    },
    {
      "cell_type": "code",
      "metadata": {
        "id": "OzBdc7_CDQhm"
      },
      "source": [
        ""
      ],
      "execution_count": null,
      "outputs": []
    },
    {
      "cell_type": "markdown",
      "metadata": {
        "id": "wu8amxsrDSer"
      },
      "source": [
        "clustering accuracy"
      ]
    },
    {
      "cell_type": "code",
      "metadata": {
        "id": "ccw69Z9oU6Tj"
      },
      "source": [
        "from sklearn.utils.linear_assignment_ import linear_assignment\n",
        "def _make_cost_m(cm):\n",
        "    s = np.max(cm)\n",
        "    return (- cm + s)\n",
        "from sklearn.metrics import confusion_matrix\n",
        "def cluster_acc(predicted_labels,labels):\n",
        "    cm = confusion_matrix(labels, predicted_labels)\n",
        "    indexes = linear_assignment(_make_cost_m(cm))\n",
        "    js = [e[1] for e in sorted(indexes, key=lambda x: x[0])]\n",
        "    cm2 = cm[:, js]\n",
        "    return np.trace(cm2)/np.sum(cm2),np.diag(cm2) / np.sum(cm2,0)#total Accuracy and Accuracy of each cluster"
      ],
      "execution_count": 18,
      "outputs": []
    },
    {
      "cell_type": "code",
      "metadata": {
        "id": "IwVjqwO5G1A7"
      },
      "source": [
        ""
      ],
      "execution_count": null,
      "outputs": []
    },
    {
      "cell_type": "markdown",
      "metadata": {
        "id": "1XJbMkAiDRiO"
      },
      "source": [
        "Fit kernel GMM"
      ]
    },
    {
      "cell_type": "code",
      "metadata": {
        "id": "j66dkNzmG2HV",
        "outputId": "1451fd23-c7c6-4de4-d5b0-d673dca42efa",
        "colab": {
          "base_uri": "https://localhost:8080/",
          "height": 299
        }
      },
      "source": [
        "reds = y == 0\n",
        "blues = y == 1\n",
        "plt.scatter(X_train[reds, 0], X_train[reds, 1], c=\"red\",\n",
        "            s=20, edgecolor='k')\n",
        "plt.scatter(X_train[blues, 0], X_train[blues, 1], c=\"blue\",\n",
        "            s=20, edgecolor='k')\n",
        "plt.title(\"Original data\")"
      ],
      "execution_count": 37,
      "outputs": [
        {
          "output_type": "execute_result",
          "data": {
            "text/plain": [
              "Text(0.5, 1.0, 'Original data')"
            ]
          },
          "metadata": {
            "tags": []
          },
          "execution_count": 37
        },
        {
          "output_type": "display_data",
          "data": {
            "image/png": "[encoded data removed]",
            "text/plain": [
              "<Figure size 432x288 with 1 Axes>"
            ]
          },
          "metadata": {
            "tags": [],
            "needs_background": "light"
          }
        }
      ]
    },
    {
      "cell_type": "code",
      "metadata": {
        "id": "1yhpBEHECc2o"
      },
      "source": [
        "gmm=GaussianMixture(max_iter=40,kernel=\"rbf\",d_phi=[69,69],initial=\"random\")"
      ],
      "execution_count": 31,
      "outputs": []
    },
    {
      "cell_type": "code",
      "metadata": {
        "id": "2PJbJAieCprJ",
        "outputId": "59b8e7e7-7087-4758-b168-30933b5d2fd2",
        "colab": {
          "base_uri": "https://localhost:8080/"
        }
      },
      "source": [
        "gmm.fit(cp.asarray(X_train))"
      ],
      "execution_count": 34,
      "outputs": [
        {
          "output_type": "stream",
          "text": [
            "/usr/local/lib/python3.6/dist-packages/sklearn/utils/linear_assignment_.py:128: FutureWarning: The linear_assignment function is deprecated in 0.21 and will be removed from 0.23. Use scipy.optimize.linear_sum_assignment instead.\n",
            "  FutureWarning)\n"
          ],
          "name": "stderr"
        },
        {
          "output_type": "stream",
          "text": [
            "Accuracy (0.732, array([0.76008969, 0.70938628]))\n",
            "p_t-p_(t+1) 881.8276097651787\n",
            "Accuracy (0.855, array([0.85858586, 0.85148515]))\n",
            "p_t-p_(t+1) 257.82570683097384\n",
            "Accuracy (0.955, array([0.91743119, 1.        ]))\n",
            "p_t-p_(t+1) 200.0\n",
            "Accuracy (0.996, array([0.99206349, 1.        ]))\n",
            "p_t-p_(t+1) 82.0\n",
            "Accuracy (1.0, array([1., 1.]))\n",
            "p_t-p_(t+1) 8.0\n",
            "Accuracy (1.0, array([1., 1.]))\n",
            "p_t-p_(t+1) 2.5604915724335223e-41\n"
          ],
          "name": "stdout"
        }
      ]
    },
    {
      "cell_type": "code",
      "metadata": {
        "id": "JebOo2dFHEq3"
      },
      "source": [
        "label=cp.asnumpy(gmm.predict)"
      ],
      "execution_count": 39,
      "outputs": []
    },
    {
      "cell_type": "code",
      "metadata": {
        "id": "wGCmotb5HQZz",
        "outputId": "ef7ce9c5-86d4-4753-a2e0-7c3ee9c4b808",
        "colab": {
          "base_uri": "https://localhost:8080/",
          "height": 299
        }
      },
      "source": [
        "reds = label == 0\n",
        "blues = label == 1\n",
        "plt.scatter(X_train[reds, 0], X_train[reds, 1], c=\"red\",\n",
        "            s=20, edgecolor='k')\n",
        "plt.scatter(X_train[blues, 0], X_train[blues, 1], c=\"blue\",\n",
        "            s=20, edgecolor='k')\n",
        "plt.title(\"Clustering\")"
      ],
      "execution_count": 40,
      "outputs": [
        {
          "output_type": "execute_result",
          "data": {
            "text/plain": [
              "Text(0.5, 1.0, 'Clustering')"
            ]
          },
          "metadata": {
            "tags": []
          },
          "execution_count": 40
        },
        {
          "output_type": "display_data",
          "data": {
            "image/png": "[encoded data removed]",
            "text/plain": [
              "<Figure size 432x288 with 1 Axes>"
            ]
          },
          "metadata": {
            "tags": [],
            "needs_background": "light"
          }
        }
      ]
    }
  ]
}